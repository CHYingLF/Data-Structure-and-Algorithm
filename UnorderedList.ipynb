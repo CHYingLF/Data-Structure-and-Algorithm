{
 "cells": [
  {
   "cell_type": "code",
   "execution_count": 1,
   "id": "excessive-wisdom",
   "metadata": {},
   "outputs": [],
   "source": [
    "class Node:\n",
    "    def __init__(self, initdata):\n",
    "        self.data=initdata\n",
    "        self.next=None\n",
    "        \n",
    "    def getData(self):\n",
    "        return self.data\n",
    "    \n",
    "    def getNext(self):\n",
    "        return self.next\n",
    "    \n",
    "    def setData(self,newdata):\n",
    "        self.data=newdata\n",
    "        \n",
    "    def setNext(self,newnext):\n",
    "        self.next=newnext\n",
    "        \n",
    "\n",
    "class UnorderedList:\n",
    "    def __init__(self):\n",
    "        self.head=None\n",
    "        \n",
    "    def add(self,item):\n",
    "        temp=Node(item)\n",
    "        temp.setNext(self.head)\n",
    "        self.head=temp\n",
    "        \n",
    "    def size(self):\n",
    "        current=self.head\n",
    "        count=0\n",
    "        while current != None:\n",
    "            count =count+1\n",
    "            current=current.getNext()\n",
    "            \n",
    "        return count\n",
    "    def search(self,item):\n",
    "        current =self.head\n",
    "        found=False\n",
    "        while current != None and not found:\n",
    "            if current.getData() == item:\n",
    "                found=True\n",
    "            else:\n",
    "                current = current.getNext()\n",
    "                \n",
    "        return found\n",
    "    \n",
    "    def remove(self,item):\n",
    "        current=self.head\n",
    "        previous=None\n",
    "        found=False\n",
    "        while not found:\n",
    "            if current.getData() ==item:\n",
    "                found =True\n",
    "            else:\n",
    "                previous =current\n",
    "                current=current.getNext()\n",
    "                \n",
    "        if previous ==None:\n",
    "            self.head =current.getNext()\n",
    "            \n",
    "        else:\n",
    "            previous.setNext(current.getNext())\n",
    "            \n",
    "    def isEmpty(self):\n",
    "        return self.head==None\n",
    "        "
   ]
  },
  {
   "cell_type": "code",
   "execution_count": 2,
   "id": "mobile-spelling",
   "metadata": {},
   "outputs": [
    {
     "name": "stdout",
     "output_type": "stream",
     "text": [
      "True\n",
      "4\n",
      "2\n",
      "True\n",
      "True\n",
      "False\n"
     ]
    }
   ],
   "source": [
    "mylist=UnorderedList()\n",
    "print(mylist.isEmpty())\n",
    "mylist.add(4)\n",
    "mylist.add(2)\n",
    "mylist.add(2)\n",
    "mylist.add(2)\n",
    "\n",
    "print( mylist.size())\n",
    "print(mylist.head.getData())\n",
    "print(mylist.search(2))\n",
    "\n",
    "mylist.remove(2)\n",
    "print(mylist.search(2))\n",
    "print(mylist.isEmpty())"
   ]
  }
 ],
 "metadata": {
  "kernelspec": {
   "display_name": "Python 3",
   "language": "python",
   "name": "python3"
  },
  "language_info": {
   "codemirror_mode": {
    "name": "ipython",
    "version": 3
   },
   "file_extension": ".py",
   "mimetype": "text/x-python",
   "name": "python",
   "nbconvert_exporter": "python",
   "pygments_lexer": "ipython3",
   "version": "3.8.3"
  }
 },
 "nbformat": 4,
 "nbformat_minor": 5
}
