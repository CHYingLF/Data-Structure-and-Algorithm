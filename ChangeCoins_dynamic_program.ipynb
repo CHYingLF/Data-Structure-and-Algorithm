{
 "cells": [
  {
   "cell_type": "code",
   "execution_count": 60,
   "id": "administrative-samba",
   "metadata": {},
   "outputs": [],
   "source": [
    "def dpMakeChange(CoinValueList, change, minCoins):\n",
    "    CoinUsed=(change+1)*[0]\n",
    "    for cents in range(1,change+1):\n",
    "        coincents=cents\n",
    "        newCoin=1\n",
    "        for j in [c for c in CoinValueList if c<= cents]:\n",
    "            if minCoins[cents-j]+1<coincents:\n",
    "                coincents=1+minCoins[cents-j]\n",
    "                newCoin=j\n",
    "                \n",
    "        minCoins[cents]=coincents\n",
    "        CoinUsed[cents]=newCoin\n",
    "        \n",
    "    printCoinUsed(CoinUsed,change)\n",
    "    return minCoins[change]\n",
    "\n",
    "def printCoinUsed(CoinUsed, change):\n",
    "    print(f'Coin change for [{change}] cents are:')\n",
    "    j=change\n",
    "    while j >=1 :\n",
    "        print(CoinUsed[j],'cents')\n",
    "        j=j-CoinUsed[j]"
   ]
  },
  {
   "cell_type": "code",
   "execution_count": 61,
   "id": "located-vitamin",
   "metadata": {},
   "outputs": [
    {
     "name": "stdout",
     "output_type": "stream",
     "text": [
      "Coin change for [62] cents are:\n",
      "10 cents\n",
      "10 cents\n",
      "21 cents\n",
      "21 cents\n"
     ]
    },
    {
     "data": {
      "text/plain": [
       "4"
      ]
     },
     "execution_count": 61,
     "metadata": {},
     "output_type": "execute_result"
    }
   ],
   "source": [
    "CoinValueList=[1,5,10,21,25]\n",
    "change=62\n",
    "minCoins=(change+1)*[0]\n",
    "\n",
    "dpMakeChange(CoinValueList, change, minCoins)"
   ]
  }
 ],
 "metadata": {
  "kernelspec": {
   "display_name": "Python 3",
   "language": "python",
   "name": "python3"
  },
  "language_info": {
   "codemirror_mode": {
    "name": "ipython",
    "version": 3
   },
   "file_extension": ".py",
   "mimetype": "text/x-python",
   "name": "python",
   "nbconvert_exporter": "python",
   "pygments_lexer": "ipython3",
   "version": "3.8.3"
  }
 },
 "nbformat": 4,
 "nbformat_minor": 5
}
