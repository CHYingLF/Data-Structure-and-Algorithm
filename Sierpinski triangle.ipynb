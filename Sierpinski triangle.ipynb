{
 "cells": [
  {
   "cell_type": "code",
   "execution_count": 1,
   "id": "difficult-roller",
   "metadata": {},
   "outputs": [],
   "source": [
    "import turtle"
   ]
  },
  {
   "cell_type": "code",
   "execution_count": 2,
   "id": "moderate-thursday",
   "metadata": {},
   "outputs": [],
   "source": [
    "def sierpinski(degree, points):\n",
    "    color=['red','blue','yellow','green','white','black','pink','orange']\n",
    "    drawtriangle(points, color[degree])\n",
    "    \n",
    "    if degree>0 :\n",
    "        sierpinski(degree-1, {'left':points['left'],\n",
    "                              'top':getmid(points['left'],points['top']),\n",
    "                              'right':getmid(points['left'],points['right'])})\n",
    "        sierpinski(degree-1, {'left':getmid(points['top'],points['left']),\n",
    "                              'top': points['top'],\n",
    "                              'right':getmid(points['top'],points['right'])})\n",
    "        sierpinski(degree-1, {'left':getmid(points['right'],points['left']),\n",
    "                              'top': getmid(points['right'],points['top']),\n",
    "                              'right':points['right']})\n",
    "\n",
    "def drawtriangle(points, color):\n",
    "    t.fillcolor(color)\n",
    "    t.penup()\n",
    "    t.goto(points['top'])\n",
    "    t.pendown()\n",
    "    t.begin_fill()\n",
    "    t.goto(points['left'])\n",
    "    t.goto(points['right'])\n",
    "    t.goto(points['top'])\n",
    "    t.end_fill()\n",
    "    \n",
    "def getmid(p1,p2):\n",
    "    return ((p1[0]+p2[0])/2,(p1[1]+p2[1])/2)\n",
    "\n",
    "\n",
    "           \n",
    "    "
   ]
  },
  {
   "cell_type": "code",
   "execution_count": 3,
   "id": "infrared-tuition",
   "metadata": {},
   "outputs": [],
   "source": [
    "t=turtle.Turtle()\n",
    "\n",
    "points={'left':(-200,-100),\n",
    "         'top':(0,200),\n",
    "          'right':(200,-100)}\n",
    "sierpinski(4,points)\n",
    "\n",
    "turtle.done()"
   ]
  }
 ],
 "metadata": {
  "kernelspec": {
   "display_name": "Python 3",
   "language": "python",
   "name": "python3"
  },
  "language_info": {
   "codemirror_mode": {
    "name": "ipython",
    "version": 3
   },
   "file_extension": ".py",
   "mimetype": "text/x-python",
   "name": "python",
   "nbconvert_exporter": "python",
   "pygments_lexer": "ipython3",
   "version": "3.8.3"
  }
 },
 "nbformat": 4,
 "nbformat_minor": 5
}
