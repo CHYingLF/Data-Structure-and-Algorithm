{
 "cells": [
  {
   "cell_type": "code",
   "execution_count": 1,
   "id": "injured-wright",
   "metadata": {},
   "outputs": [],
   "source": [
    "from pythonds.basic.stack import Stack"
   ]
  },
  {
   "cell_type": "code",
   "execution_count": 4,
   "id": "julian-things",
   "metadata": {},
   "outputs": [
    {
     "data": {
      "text/plain": [
       "['12345']"
      ]
     },
     "execution_count": 4,
     "metadata": {},
     "output_type": "execute_result"
    }
   ],
   "source": [
    "t=\"12345\""
   ]
  },
  {
   "cell_type": "code",
   "execution_count": 14,
   "id": "palestinian-bathroom",
   "metadata": {},
   "outputs": [],
   "source": [
    "def parChecker(symbolString):\n",
    "    s=Stack()\n",
    "    balanced=True\n",
    "    index=0\n",
    "    while index < len(symbolString) and balanced:\n",
    "        symbol=symbolString[index]\n",
    "        if symbol in \"[({\":\n",
    "            s.push(symbol)\n",
    "        else:\n",
    "            if s.isEmpty():\n",
    "                balanced=False\n",
    "            else:\n",
    "                top=s.pop()\n",
    "                if not matches(top,symbol):\n",
    "                    balanced=False\n",
    "                    \n",
    "        index=index+1\n",
    "            \n",
    "    if balanced and s.isEmpty():\n",
    "        return True\n",
    "    else:\n",
    "        return False\n",
    "    \n",
    "def matches(open, close):\n",
    "    opens='([{'\n",
    "    closers=')]}'\n",
    "    return opens.index(open) == closers.index(close)"
   ]
  },
  {
   "cell_type": "code",
   "execution_count": 17,
   "id": "junior-anger",
   "metadata": {},
   "outputs": [
    {
     "name": "stdout",
     "output_type": "stream",
     "text": [
      "True\n"
     ]
    }
   ],
   "source": [
    "print(parChecker('([()])'))"
   ]
  }
 ],
 "metadata": {
  "kernelspec": {
   "display_name": "Python 3",
   "language": "python",
   "name": "python3"
  },
  "language_info": {
   "codemirror_mode": {
    "name": "ipython",
    "version": 3
   },
   "file_extension": ".py",
   "mimetype": "text/x-python",
   "name": "python",
   "nbconvert_exporter": "python",
   "pygments_lexer": "ipython3",
   "version": "3.8.3"
  }
 },
 "nbformat": 4,
 "nbformat_minor": 5
}
