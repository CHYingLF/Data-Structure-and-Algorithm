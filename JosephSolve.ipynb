{
 "cells": [
  {
   "cell_type": "code",
   "execution_count": 7,
   "id": "understanding-conditions",
   "metadata": {},
   "outputs": [
    {
     "data": {
      "text/plain": [
       "1"
      ]
     },
     "execution_count": 7,
     "metadata": {},
     "output_type": "execute_result"
    }
   ],
   "source": [
    "from pythonds.basic import Queue\n",
    "\n",
    "a=Queue()\n",
    "a.enqueue(1)\n",
    "a.size()\n"
   ]
  },
  {
   "cell_type": "code",
   "execution_count": 13,
   "id": "adjacent-flexibility",
   "metadata": {},
   "outputs": [],
   "source": [
    "def joseph(namelist, num):\n",
    "    q=Queue()\n",
    "    \n",
    "    for i in range(len(namelist)):\n",
    "        q.enqueue(namelist[i])\n",
    "        \n",
    "    while (q.size() > 1):\n",
    "        for i in range(num):\n",
    "            q.enqueue(q.dequeue())\n",
    "            \n",
    "        q.dequeue()\n",
    "        \n",
    "    return q.dequeue()"
   ]
  },
  {
   "cell_type": "code",
   "execution_count": 18,
   "id": "hollow-blair",
   "metadata": {},
   "outputs": [
    {
     "name": "stdout",
     "output_type": "stream",
     "text": [
      "1\n"
     ]
    }
   ],
   "source": [
    "namelist=['1','2','3','4','5','6']\n",
    "num=4\n",
    "\n",
    "print(joseph(namelist,num))"
   ]
  }
 ],
 "metadata": {
  "kernelspec": {
   "display_name": "Python 3",
   "language": "python",
   "name": "python3"
  },
  "language_info": {
   "codemirror_mode": {
    "name": "ipython",
    "version": 3
   },
   "file_extension": ".py",
   "mimetype": "text/x-python",
   "name": "python",
   "nbconvert_exporter": "python",
   "pygments_lexer": "ipython3",
   "version": "3.8.3"
  }
 },
 "nbformat": 4,
 "nbformat_minor": 5
}
