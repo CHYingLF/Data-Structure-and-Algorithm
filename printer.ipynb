{
 "cells": [
  {
   "cell_type": "code",
   "execution_count": 17,
   "id": "italic-insider",
   "metadata": {},
   "outputs": [],
   "source": [
    "from pythonds.basic import Queue\n",
    "\n",
    "import random"
   ]
  },
  {
   "cell_type": "code",
   "execution_count": 18,
   "id": "crazy-cornwall",
   "metadata": {},
   "outputs": [],
   "source": [
    "class Printer:\n",
    "    def __init__(self,ppm):\n",
    "        self.pagerate = ppm\n",
    "        self.currentTask = None\n",
    "        self.timeRemaining=0\n",
    "        \n",
    "    def tick(self):\n",
    "        if self.currentTask != None:\n",
    "            self.timeRemaining = self.timeRemaining - 1\n",
    "            if self.timeRemaining <= 0:\n",
    "                self.currentTask = None\n",
    "    def busy(self):\n",
    "        if self.currentTask != None:\n",
    "            return True\n",
    "        else:\n",
    "            return False\n",
    "    \n",
    "    def startNext(self,newtask):\n",
    "        self.currentTask = newtask\n",
    "        self.timeRemaining = newtask.getPages() \\\n",
    "                             *60/self.pagerate\n",
    "    "
   ]
  },
  {
   "cell_type": "code",
   "execution_count": 19,
   "id": "surgical-month",
   "metadata": {},
   "outputs": [],
   "source": [
    "class Task:\n",
    "    def __init__(self,time):\n",
    "        self.timestamp = time\n",
    "        self.pages = random.randrange(1,21)\n",
    "    \n",
    "    def getStamp(self):\n",
    "        return self.timestamp\n",
    "    \n",
    "    def getPages(self):\n",
    "        return self.pages\n",
    "    \n",
    "    def waitTime(self,currenttime):\n",
    "        return currenttime-self.timestamp\n",
    "    \n",
    "def newPrintTask():\n",
    "    num=random.randrange(1,181)\n",
    "    if num == 180:\n",
    "        return True\n",
    "    else:\n",
    "        return False"
   ]
  },
  {
   "cell_type": "code",
   "execution_count": 20,
   "id": "changed-memory",
   "metadata": {},
   "outputs": [],
   "source": [
    "def simulation(numSeconds, pagesPerMinute):\n",
    "    labprinter = Printer(pagesPerMinute)\n",
    "    printQueue = Queue()\n",
    "    waitingtimes = []\n",
    "    for currentSecond in range(numSeconds):\n",
    "        if newPrintTask():\n",
    "            task = Task(currentSecond)\n",
    "            printQueue.enqueue(task)\n",
    "        if (not labprinter.busy()) and \\\n",
    "                   (not printQueue.isEmpty()):\n",
    "            nexttask = printQueue.dequeue()\n",
    "            waitingtimes.append( \\\n",
    "                               nexttask.waitTime(currentSecond))\n",
    "            labprinter.startNext(nexttask)\n",
    "            \n",
    "        labprinter.tick()\n",
    "        \n",
    "    averageWait = sum(waitingtimes)/len(waitingtimes)\n",
    "    print(\"Average Wait %6.2f secs %3d tasks remaining.\" \\\n",
    "                   %(averageWait,printQueue.size()))"
   ]
  },
  {
   "cell_type": "code",
   "execution_count": 21,
   "id": "offensive-london",
   "metadata": {},
   "outputs": [
    {
     "name": "stdout",
     "output_type": "stream",
     "text": [
      "Average Wait 107.57 secs   0 tasks remaining.\n",
      "Average Wait 214.41 secs   0 tasks remaining.\n",
      "Average Wait 177.48 secs   3 tasks remaining.\n",
      "Average Wait 183.33 secs   3 tasks remaining.\n",
      "Average Wait  19.39 secs   0 tasks remaining.\n",
      "Average Wait 165.28 secs   0 tasks remaining.\n",
      "Average Wait 157.21 secs   1 tasks remaining.\n",
      "Average Wait  27.46 secs   0 tasks remaining.\n",
      "Average Wait  28.25 secs   0 tasks remaining.\n",
      "Average Wait 656.05 secs   7 tasks remaining.\n"
     ]
    }
   ],
   "source": [
    "for i in range(10):\n",
    "    simulation(3600,5)"
   ]
  },
  {
   "cell_type": "code",
   "execution_count": 22,
   "id": "julian-clock",
   "metadata": {},
   "outputs": [
    {
     "name": "stdout",
     "output_type": "stream",
     "text": [
      "Average Wait   5.30 secs   0 tasks remaining.\n",
      "Average Wait  16.63 secs   0 tasks remaining.\n",
      "Average Wait   3.96 secs   0 tasks remaining.\n",
      "Average Wait  36.96 secs   0 tasks remaining.\n",
      "Average Wait  15.25 secs   1 tasks remaining.\n",
      "Average Wait  41.04 secs   1 tasks remaining.\n",
      "Average Wait   5.44 secs   0 tasks remaining.\n",
      "Average Wait  24.18 secs   0 tasks remaining.\n",
      "Average Wait  18.95 secs   0 tasks remaining.\n",
      "Average Wait  17.86 secs   0 tasks remaining.\n"
     ]
    }
   ],
   "source": [
    "for i in range(10):\n",
    "    simulation(3600,10)"
   ]
  }
 ],
 "metadata": {
  "kernelspec": {
   "display_name": "Python 3",
   "language": "python",
   "name": "python3"
  },
  "language_info": {
   "codemirror_mode": {
    "name": "ipython",
    "version": 3
   },
   "file_extension": ".py",
   "mimetype": "text/x-python",
   "name": "python",
   "nbconvert_exporter": "python",
   "pygments_lexer": "ipython3",
   "version": "3.8.3"
  }
 },
 "nbformat": 4,
 "nbformat_minor": 5
}
