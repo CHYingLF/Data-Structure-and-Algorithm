{
 "cells": [
  {
   "cell_type": "code",
   "execution_count": 2,
   "id": "literary-ethnic",
   "metadata": {},
   "outputs": [],
   "source": [
    "def ChangeC(CoinList, change, knownResults):\n",
    "    minNum=change\n",
    "    if change in CoinList:\n",
    "        knownResults[change]=1\n",
    "        return 1\n",
    "    elif knownResults[change] >1:\n",
    "        return knownResults[change]\n",
    "    \n",
    "    else:\n",
    "        for i in [c for c in CoinList if c<change]:\n",
    "            tempNum=1+ChangeC(CoinList, change-i, knownResults)\n",
    "            \n",
    "            if tempNum<minNum:\n",
    "                minNum=tempNum\n",
    "                knownResults[change]=minNum\n",
    "    return minNum"
   ]
  },
  {
   "cell_type": "code",
   "execution_count": 10,
   "id": "functional-mexico",
   "metadata": {},
   "outputs": [
    {
     "name": "stdout",
     "output_type": "stream",
     "text": [
      "[0, 1, 0, 0, 0, 1, 2, 3, 4, 5, 1, 2, 3, 4, 5, 2, 3, 4, 5, 6, 2, 3, 4, 5]\n"
     ]
    }
   ],
   "source": [
    "CoinList=[1,5,10,25]\n",
    "change=23\n",
    "memo=[0]*(change+1)\n",
    "ChangeC(CoinList, change, memo)\n",
    "\n",
    "print(memo)"
   ]
  }
 ],
 "metadata": {
  "kernelspec": {
   "display_name": "Python 3",
   "language": "python",
   "name": "python3"
  },
  "language_info": {
   "codemirror_mode": {
    "name": "ipython",
    "version": 3
   },
   "file_extension": ".py",
   "mimetype": "text/x-python",
   "name": "python",
   "nbconvert_exporter": "python",
   "pygments_lexer": "ipython3",
   "version": "3.8.3"
  }
 },
 "nbformat": 4,
 "nbformat_minor": 5
}
