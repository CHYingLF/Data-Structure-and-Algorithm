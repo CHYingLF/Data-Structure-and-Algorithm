{
 "cells": [
  {
   "cell_type": "code",
   "execution_count": 2,
   "id": "metropolitan-computer",
   "metadata": {},
   "outputs": [],
   "source": [
    "from pythonds.basic.stack import Stack"
   ]
  },
  {
   "cell_type": "code",
   "execution_count": 3,
   "id": "alien-cradle",
   "metadata": {},
   "outputs": [],
   "source": [
    "def infixtopostfix(token):\n",
    "    prec={}\n",
    "    prec['*']=3\n",
    "    prec['/']=3\n",
    "    prec['+']=2\n",
    "    prec['-']=2\n",
    "    prec['(']=1\n",
    "    s=Stack()\n",
    "    postfixlist=[]\n",
    "    tokenlist=token.split()\n",
    "    \n",
    "    for tok in tokenlist:\n",
    "        if tok in 'ABCDEFGHIJKLMNOPQRSTUVWXYZ' or tok in '1234567890':\n",
    "            postfixlist.append(tok)\n",
    "            \n",
    "        elif tok == \"(\":\n",
    "            s.push(tok)\n",
    "            \n",
    "        elif tok == \")\":\n",
    "            temp=s.pop()\n",
    "            while temp != \"(\":\n",
    "                postfixlist.append(temp)\n",
    "                temp=s.pop()\n",
    "                \n",
    "        else:\n",
    "            while (not s.isEmpty()) and prec[s.peek()] >= prec[tok]:\n",
    "                postfixlist.append(s.pop())     \n",
    "            s.push(tok)\n",
    "                \n",
    "    while not s.isEmpty():\n",
    "        postfixlist.append(s.pop())\n",
    "        \n",
    "    return ''.join(postfixlist)\n",
    "                "
   ]
  },
  {
   "cell_type": "code",
   "execution_count": 24,
   "id": "parallel-institution",
   "metadata": {},
   "outputs": [
    {
     "name": "stdout",
     "output_type": "stream",
     "text": [
      "( A + B ) * C\n",
      "AB+C*\n",
      "['(', ' ', 'A', ' ', '+', ' ', 'B', ' ', ')', ' ', '*', ' ', 'C']\n"
     ]
    }
   ],
   "source": [
    "#A='A * B + C * D'\n",
    "A='( A + B ) * C'\n",
    "print(A)\n",
    "print(infixtopostfix(A))"
   ]
  },
  {
   "cell_type": "code",
   "execution_count": 14,
   "id": "former-contrary",
   "metadata": {},
   "outputs": [],
   "source": [
    "def postfixeval(postfix):\n",
    "    s=Stack()\n",
    "    \n",
    "    for tok in postfix:\n",
    "        if tok in '0123456789':\n",
    "            s.push(tok)\n",
    "        elif tok in '*/+-':\n",
    "            right=float(s.pop())\n",
    "            left=float(s.pop())\n",
    "            value=doMath(tok,left,right)\n",
    "            s.push(value)\n",
    "            \n",
    "    return s.pop()\n",
    "        \n",
    "\n",
    "def doMath(tok, left, right):\n",
    "    if tok=='*':\n",
    "        return left*right\n",
    "    elif tok==\"/\":\n",
    "        return left/right\n",
    "    elif tok==\"+\":\n",
    "        return left+right\n",
    "    elif tok==\"-\":\n",
    "        return left-right"
   ]
  },
  {
   "cell_type": "code",
   "execution_count": 23,
   "id": "fantastic-westminster",
   "metadata": {},
   "outputs": [
    {
     "ename": "KeyError",
     "evalue": "'-9'",
     "output_type": "error",
     "traceback": [
      "\u001b[1;31m---------------------------------------------------------------------------\u001b[0m",
      "\u001b[1;31mKeyError\u001b[0m                                  Traceback (most recent call last)",
      "\u001b[1;32m<ipython-input-23-4fa35f32aaa4>\u001b[0m in \u001b[0;36m<module>\u001b[1;34m\u001b[0m\n\u001b[0;32m      1\u001b[0m \u001b[0minfix\u001b[0m\u001b[1;33m=\u001b[0m\u001b[1;34m'9 + 3 * ( 6 -9 )'\u001b[0m\u001b[1;33m\u001b[0m\u001b[1;33m\u001b[0m\u001b[0m\n\u001b[1;32m----> 2\u001b[1;33m \u001b[0mpostfix\u001b[0m\u001b[1;33m=\u001b[0m\u001b[0minfixtopostfix\u001b[0m\u001b[1;33m(\u001b[0m\u001b[0minfix\u001b[0m\u001b[1;33m)\u001b[0m\u001b[1;33m\u001b[0m\u001b[1;33m\u001b[0m\u001b[0m\n\u001b[0m\u001b[0;32m      3\u001b[0m \u001b[0mprint\u001b[0m\u001b[1;33m(\u001b[0m\u001b[0mpostfix\u001b[0m\u001b[1;33m)\u001b[0m\u001b[1;33m\u001b[0m\u001b[1;33m\u001b[0m\u001b[0m\n\u001b[0;32m      4\u001b[0m \u001b[0mprint\u001b[0m\u001b[1;33m(\u001b[0m\u001b[0mpostfixeval\u001b[0m\u001b[1;33m(\u001b[0m\u001b[0mpostfix\u001b[0m\u001b[1;33m)\u001b[0m\u001b[1;33m)\u001b[0m\u001b[1;33m\u001b[0m\u001b[1;33m\u001b[0m\u001b[0m\n",
      "\u001b[1;32m<ipython-input-3-d029a44fe155>\u001b[0m in \u001b[0;36minfixtopostfix\u001b[1;34m(token)\u001b[0m\n\u001b[0;32m     24\u001b[0m \u001b[1;33m\u001b[0m\u001b[0m\n\u001b[0;32m     25\u001b[0m         \u001b[1;32melse\u001b[0m\u001b[1;33m:\u001b[0m\u001b[1;33m\u001b[0m\u001b[1;33m\u001b[0m\u001b[0m\n\u001b[1;32m---> 26\u001b[1;33m             \u001b[1;32mwhile\u001b[0m \u001b[1;33m(\u001b[0m\u001b[1;32mnot\u001b[0m \u001b[0ms\u001b[0m\u001b[1;33m.\u001b[0m\u001b[0misEmpty\u001b[0m\u001b[1;33m(\u001b[0m\u001b[1;33m)\u001b[0m\u001b[1;33m)\u001b[0m \u001b[1;32mand\u001b[0m \u001b[0mprec\u001b[0m\u001b[1;33m[\u001b[0m\u001b[0ms\u001b[0m\u001b[1;33m.\u001b[0m\u001b[0mpeek\u001b[0m\u001b[1;33m(\u001b[0m\u001b[1;33m)\u001b[0m\u001b[1;33m]\u001b[0m \u001b[1;33m>=\u001b[0m \u001b[0mprec\u001b[0m\u001b[1;33m[\u001b[0m\u001b[0mtok\u001b[0m\u001b[1;33m]\u001b[0m\u001b[1;33m:\u001b[0m\u001b[1;33m\u001b[0m\u001b[1;33m\u001b[0m\u001b[0m\n\u001b[0m\u001b[0;32m     27\u001b[0m                 \u001b[0mpostfixlist\u001b[0m\u001b[1;33m.\u001b[0m\u001b[0mappend\u001b[0m\u001b[1;33m(\u001b[0m\u001b[0ms\u001b[0m\u001b[1;33m.\u001b[0m\u001b[0mpop\u001b[0m\u001b[1;33m(\u001b[0m\u001b[1;33m)\u001b[0m\u001b[1;33m)\u001b[0m\u001b[1;33m\u001b[0m\u001b[1;33m\u001b[0m\u001b[0m\n\u001b[0;32m     28\u001b[0m             \u001b[0ms\u001b[0m\u001b[1;33m.\u001b[0m\u001b[0mpush\u001b[0m\u001b[1;33m(\u001b[0m\u001b[0mtok\u001b[0m\u001b[1;33m)\u001b[0m\u001b[1;33m\u001b[0m\u001b[1;33m\u001b[0m\u001b[0m\n",
      "\u001b[1;31mKeyError\u001b[0m: '-9'"
     ]
    }
   ],
   "source": [
    "infix='9 + 3 * ( 6 - 9 )'\n",
    "postfix=infixtopostfix(infix)\n",
    "print(postfix)\n",
    "print(postfixeval(postfix))"
   ]
  }
 ],
 "metadata": {
  "kernelspec": {
   "display_name": "Python 3",
   "language": "python",
   "name": "python3"
  },
  "language_info": {
   "codemirror_mode": {
    "name": "ipython",
    "version": 3
   },
   "file_extension": ".py",
   "mimetype": "text/x-python",
   "name": "python",
   "nbconvert_exporter": "python",
   "pygments_lexer": "ipython3",
   "version": "3.8.3"
  }
 },
 "nbformat": 4,
 "nbformat_minor": 5
}
