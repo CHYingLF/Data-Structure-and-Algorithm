{
 "cells": [
  {
   "cell_type": "code",
   "execution_count": 4,
   "id": "collective-subcommittee",
   "metadata": {},
   "outputs": [],
   "source": [
    "def MoveTower(height, frompole, withpole, topole):\n",
    "    if height>=1:\n",
    "        MoveTower(height-1,frompole,topole, withpole)\n",
    "        MoveDisk(height,frompole,topole)\n",
    "        MoveTower(height-1,withpole,frompole,topole)\n",
    "        \n",
    "def MoveDisk(height, frompole, topole):\n",
    "    print(f'Move disk[{height}] from {frompole} to {topole}')"
   ]
  },
  {
   "cell_type": "code",
   "execution_count": 5,
   "id": "younger-hawaii",
   "metadata": {},
   "outputs": [
    {
     "name": "stdout",
     "output_type": "stream",
     "text": [
      "Move disk[1] from #1 to #3\n",
      "Move disk[2] from #1 to #2\n",
      "Move disk[1] from #3 to #2\n",
      "Move disk[3] from #1 to #3\n",
      "Move disk[1] from #2 to #1\n",
      "Move disk[2] from #2 to #3\n",
      "Move disk[1] from #1 to #3\n"
     ]
    }
   ],
   "source": [
    "MoveTower(3,'#1','#2','#3')"
   ]
  },
  {
   "cell_type": "code",
   "execution_count": 1,
   "id": "french-religious",
   "metadata": {},
   "outputs": [],
   "source": [
    "#Redo \n",
    "def HanoiTower(height, firstpol, withpol, lastpol):\n",
    "    if height>=1:\n",
    "        HanoiTower(height-1,firstpol,lastpol, withpol)\n",
    "        moveTower(height,firstpol,lastpol)\n",
    "        HanoiTower(height-1,withpol, firstpol,lastpol)\n",
    "        \n",
    "def moveTower(height, firstpol,lastpol):\n",
    "    print(f'Move disk[{height}] from {firstpol} to {lastpol}')"
   ]
  },
  {
   "cell_type": "code",
   "execution_count": 2,
   "id": "alone-reunion",
   "metadata": {},
   "outputs": [
    {
     "name": "stdout",
     "output_type": "stream",
     "text": [
      "Move disk[1] from 1 to 3\n",
      "Move disk[2] from 1 to 2\n",
      "Move disk[1] from 3 to 2\n",
      "Move disk[3] from 1 to 3\n",
      "Move disk[1] from 2 to 1\n",
      "Move disk[2] from 2 to 3\n",
      "Move disk[1] from 1 to 3\n"
     ]
    }
   ],
   "source": [
    "HanoiTower(3,1,2,3)"
   ]
  }
 ],
 "metadata": {
  "kernelspec": {
   "display_name": "Python 3",
   "language": "python",
   "name": "python3"
  },
  "language_info": {
   "codemirror_mode": {
    "name": "ipython",
    "version": 3
   },
   "file_extension": ".py",
   "mimetype": "text/x-python",
   "name": "python",
   "nbconvert_exporter": "python",
   "pygments_lexer": "ipython3",
   "version": "3.8.3"
  }
 },
 "nbformat": 4,
 "nbformat_minor": 5
}
